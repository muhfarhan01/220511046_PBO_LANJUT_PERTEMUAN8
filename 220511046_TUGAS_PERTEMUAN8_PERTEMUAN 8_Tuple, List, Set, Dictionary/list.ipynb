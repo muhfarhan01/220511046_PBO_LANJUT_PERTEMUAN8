{
 "cells": [
  {
   "cell_type": "code",
   "execution_count": 1,
   "id": "9086a33f-95f2-4d82-8a3a-f5bf85845c29",
   "metadata": {},
   "outputs": [
    {
     "name": "stdout",
     "output_type": "stream",
     "text": [
      "Nilai ada pada index 2 :  1993\n",
      "Nilai baru ada pada index 2 :  2001\n"
     ]
    }
   ],
   "source": [
    "list = ['matematika', 'fisika', 1993, 2017]\n",
    "print (\"Nilai ada pada index 2 : \", list[2])\n",
    "\n",
    "list[2] = 2001\n",
    "print (\"Nilai baru ada pada index 2 : \", list[2])"
   ]
  },
  {
   "cell_type": "code",
   "execution_count": 5,
   "id": "8a71664f-b800-49b5-9077-8f5420b15dbb",
   "metadata": {},
   "outputs": [
    {
     "name": "stdout",
     "output_type": "stream",
     "text": [
      "Nilai ada pada index 2 :  1993\n",
      "Nilai baru ada pada index 2 :  ['matematika', 'fisika', 2017]\n"
     ]
    }
   ],
   "source": [
    "list = ['matematika', 'fisika', 1993, 2017]\n",
    "print (\"Nilai ada pada index 2 : \", list[2])\n",
    "\n",
    "list[2] = 2001\n",
    "del list [2]\n",
    "print (\"Nilai baru ada pada index 2 : \", list)"
   ]
  },
  {
   "cell_type": "code",
   "execution_count": null,
   "id": "1f50b278-e6a1-4c26-a92d-50781b6dc829",
   "metadata": {},
   "outputs": [],
   "source": []
  }
 ],
 "metadata": {
  "kernelspec": {
   "display_name": "Python 3 (ipykernel)",
   "language": "python",
   "name": "python3"
  },
  "language_info": {
   "codemirror_mode": {
    "name": "ipython",
    "version": 3
   },
   "file_extension": ".py",
   "mimetype": "text/x-python",
   "name": "python",
   "nbconvert_exporter": "python",
   "pygments_lexer": "ipython3",
   "version": "3.12.3"
  }
 },
 "nbformat": 4,
 "nbformat_minor": 5
}
