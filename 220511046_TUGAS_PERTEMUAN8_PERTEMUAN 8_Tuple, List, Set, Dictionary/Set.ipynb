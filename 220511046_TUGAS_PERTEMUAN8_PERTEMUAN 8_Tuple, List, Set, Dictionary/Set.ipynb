{
 "cells": [
  {
   "cell_type": "code",
   "execution_count": 3,
   "id": "61c283dc-7834-4b1e-b3d0-ec12a877501c",
   "metadata": {},
   "outputs": [
    {
     "name": "stdout",
     "output_type": "stream",
     "text": [
      "Employee ID: {101, 103, 105, 107, 109}\n",
      "Week Days: {'Monday', 'Thursday', 'Friday', 'Wednesday', 'Tuesday'}\n",
      "Set of mixed data types: {-3, 202, 'Goodbye', 'Paris'}\n"
     ]
    }
   ],
   "source": [
    "employee_id = {101, 103, 107, 109, 105}\n",
    "print('Employee ID:', employee_id)\n",
    "\n",
    "week_days = {'Monday', 'Tuesday', 'Wednesday', 'Thursday', 'Friday'}\n",
    "print('Week Days:', week_days)\n",
    "\n",
    "mixed_set = {'Paris', 202, -3, 'Goodbye'}\n",
    "print('Set of mixed data types:', mixed_set)\n",
    "\n"
   ]
  },
  {
   "cell_type": "code",
   "execution_count": null,
   "id": "5e6dca8a-b23a-4ca3-8977-891ff3670e80",
   "metadata": {},
   "outputs": [],
   "source": []
  }
 ],
 "metadata": {
  "kernelspec": {
   "display_name": "Python 3 (ipykernel)",
   "language": "python",
   "name": "python3"
  },
  "language_info": {
   "codemirror_mode": {
    "name": "ipython",
    "version": 3
   },
   "file_extension": ".py",
   "mimetype": "text/x-python",
   "name": "python",
   "nbconvert_exporter": "python",
   "pygments_lexer": "ipython3",
   "version": "3.12.3"
  }
 },
 "nbformat": 4,
 "nbformat_minor": 5
}
