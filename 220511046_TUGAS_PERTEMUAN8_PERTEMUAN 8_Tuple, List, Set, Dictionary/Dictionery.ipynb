{
 "cells": [
  {
   "cell_type": "code",
   "execution_count": 1,
   "id": "fa29502e-237f-4ef1-ab71-ebaca8efe397",
   "metadata": {},
   "outputs": [
    {
     "name": "stdout",
     "output_type": "stream",
     "text": [
      "car_info['Year']:  2020\n",
      "car_info['Color']:  Red\n"
     ]
    }
   ],
   "source": [
    "car_info = {'Brand': 'Toyota', 'Model': 'Corolla', 'Year': 2015}\n",
    "car_info['Year'] = 2020  \n",
    "car_info['Color'] = \"Red\" \n",
    "\n",
    "print(\"car_info['Year']: \", car_info['Year'])\n",
    "print(\"car_info['Color']: \", car_info['Color'])\n"
   ]
  },
  {
   "cell_type": "code",
   "execution_count": 5,
   "id": "3affa230-d06d-49f5-966b-570fbbcaa2b4",
   "metadata": {},
   "outputs": [
    {
     "name": "stdout",
     "output_type": "stream",
     "text": [
      "car_info['Year']:  2020\n",
      "car_info['Color']:  Red\n"
     ]
    }
   ],
   "source": [
    "car_info = {'Brand': 'Toyota', 'Model': 'Corolla', 'Year': 2015}\n",
    "car_info['Year'] = 2020  \n",
    "car_info['Color'] = \"Red\"  \n",
    "\n",
    "print(\"car_info['Year']: \", car_info['Year'])\n",
    "print(\"car_info['Color']: \", car_info['Color'])\n",
    "del car_info['Brand']\n",
    "car_info.clear()\n",
    "del car_info\n"
   ]
  },
  {
   "cell_type": "code",
   "execution_count": null,
   "id": "acf1f9c9-93ea-4425-a4fd-915f0952b366",
   "metadata": {},
   "outputs": [],
   "source": []
  }
 ],
 "metadata": {
  "kernelspec": {
   "display_name": "Python 3 (ipykernel)",
   "language": "python",
   "name": "python3"
  },
  "language_info": {
   "codemirror_mode": {
    "name": "ipython",
    "version": 3
   },
   "file_extension": ".py",
   "mimetype": "text/x-python",
   "name": "python",
   "nbconvert_exporter": "python",
   "pygments_lexer": "ipython3",
   "version": "3.12.3"
  }
 },
 "nbformat": 4,
 "nbformat_minor": 5
}
