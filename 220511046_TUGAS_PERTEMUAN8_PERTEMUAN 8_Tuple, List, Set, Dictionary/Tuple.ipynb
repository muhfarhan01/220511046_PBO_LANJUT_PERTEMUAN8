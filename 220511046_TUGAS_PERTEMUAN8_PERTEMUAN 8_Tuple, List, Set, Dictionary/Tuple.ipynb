{
 "cells": [
  {
   "cell_type": "code",
   "execution_count": 2,
   "id": "f18f521e-292f-499f-8ede-b69dc25f2401",
   "metadata": {},
   "outputs": [
    {
     "name": "stdout",
     "output_type": "stream",
     "text": [
      "tup1 setelah diubah: ('biologi', 'kimia', 1993, 2017)\n",
      "tup2 setelah diubah: (1, 2, 3, 4, 6)\n",
      "tup3 setelah diubah: ('a', 'b', 'c', 'd', 'e')\n"
     ]
    }
   ],
   "source": [
    "tup1 = ('fisika', 'kimia', 1993, 2017)\n",
    "tup2 = (1, 2, 3, 4, 5)\n",
    "tup3 = (\"a\", \"b\", \"c\", \"d\")\n",
    "\n",
    "new_tup1 = ('biologi',) + tup1[1:]\n",
    "print(\"tup1 setelah diubah:\", new_tup1)\n",
    "\n",
    "new_tup2 = tup2[:-1] + (6,)\n",
    "print(\"tup2 setelah diubah:\", new_tup2)\n",
    "\n",
    "new_tup3 = tup3 + (\"e\",)\n",
    "print(\"tup3 setelah diubah:\", new_tup3)\n"
   ]
  },
  {
   "cell_type": "code",
   "execution_count": null,
   "id": "ca3afe13-5a5a-4aa5-bf42-e7aa13c739e0",
   "metadata": {},
   "outputs": [],
   "source": []
  }
 ],
 "metadata": {
  "kernelspec": {
   "display_name": "Python 3 (ipykernel)",
   "language": "python",
   "name": "python3"
  },
  "language_info": {
   "codemirror_mode": {
    "name": "ipython",
    "version": 3
   },
   "file_extension": ".py",
   "mimetype": "text/x-python",
   "name": "python",
   "nbconvert_exporter": "python",
   "pygments_lexer": "ipython3",
   "version": "3.12.3"
  }
 },
 "nbformat": 4,
 "nbformat_minor": 5
}
